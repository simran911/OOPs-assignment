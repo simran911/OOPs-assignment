{
 "cells": [
  {
   "cell_type": "markdown",
   "id": "ad762e38-b7bf-4d6a-9313-e37171b58679",
   "metadata": {},
   "source": [
    "Q1. What is Abstraction in OOps? Explain with an example."
   ]
  },
  {
   "cell_type": "markdown",
   "id": "22f3da2c-32d3-4e2d-a80d-beb6a10876ae",
   "metadata": {},
   "source": [
    "Abstraction is one of the four fundamental concepts of Object-Oriented Programming (OOP). It is a process of simplifying complex real-world entities into their essential characteristics, focusing on what an object does rather than how it does it. Abstraction allows you to create a model of an object that hides the implementation details and exposes only the relevant features or behaviors."
   ]
  },
  {
   "cell_type": "code",
   "execution_count": 12,
   "id": "cd160e32-dba0-4359-888b-0f663490b11b",
   "metadata": {},
   "outputs": [],
   "source": [
    "import abc\n",
    "class A:\n",
    "    @abc.abstractmethod\n",
    "    def area_circle(self):\n",
    "        pass\n",
    "    @abc.abstractmethod\n",
    "    def area_triangle(self):\n",
    "        pass\n",
    "        "
   ]
  },
  {
   "cell_type": "code",
   "execution_count": 13,
   "id": "8ec04786-5fe3-4dbe-82a9-fda6ab5700d2",
   "metadata": {},
   "outputs": [],
   "source": [
    "class B(A):\n",
    "    def area_circle(self,radius):\n",
    "        print(3.14*radius*radius)\n",
    "    \n",
    "    def area_triangle(self,base,height):\n",
    "        print(1/2*base*height)\n",
    "    \n",
    "    "
   ]
  },
  {
   "cell_type": "code",
   "execution_count": 9,
   "id": "92d5dab7-1f4f-457f-b60d-dce60d37742d",
   "metadata": {},
   "outputs": [],
   "source": [
    "a=B()"
   ]
  },
  {
   "cell_type": "code",
   "execution_count": 11,
   "id": "fdfafea6-73cd-4675-a4a2-13a003f18fb7",
   "metadata": {},
   "outputs": [
    {
     "name": "stdout",
     "output_type": "stream",
     "text": [
      "12.56\n"
     ]
    }
   ],
   "source": [
    "a.area_circle(2)"
   ]
  },
  {
   "cell_type": "code",
   "execution_count": 14,
   "id": "37cd2550-068c-47f1-a83a-3871095efe4b",
   "metadata": {},
   "outputs": [
    {
     "name": "stdout",
     "output_type": "stream",
     "text": [
      "10.0\n"
     ]
    }
   ],
   "source": [
    "a.area_triangle(4,5)"
   ]
  },
  {
   "cell_type": "markdown",
   "id": "a893f89f-7a71-43b2-b113-5685db835887",
   "metadata": {},
   "source": [
    "Q2. Differentiate between Abstraction and Encapsulation. Explain with an example."
   ]
  },
  {
   "cell_type": "markdown",
   "id": "a4123320-086d-4ab6-a120-16058c5bcdc6",
   "metadata": {},
   "source": [
    " abstraction focuses on simplifying complex objects by defining their essential characteristics and interface, while encapsulation focuses on data hiding and bundling data and methods together to protect the internal representation of an object. Both concepts contribute to the overall principles of object-oriented programming and help in designing modular, maintainable, and reusable code."
   ]
  },
  {
   "cell_type": "code",
   "execution_count": 26,
   "id": "d6d52db0-5977-4d45-8851-72f7e0368bce",
   "metadata": {},
   "outputs": [],
   "source": [
    "#ENCAPSULATION :\n",
    "class Bankaccount:\n",
    "    def __init__(self,balance):\n",
    "        self.__balance=balance\n",
    "    def withdraw(self,amount):\n",
    "        if(amount>0):\n",
    "             if(amount<=self.__balance):\n",
    "                self.__balance=-amount\n",
    "    def deposit(self,amount):\n",
    "        if(amount>0):\n",
    "            self.__balance+=amount\n",
    "         \n",
    "    def get_balance(self):\n",
    "        return self.__balance\n",
    "    "
   ]
  },
  {
   "cell_type": "code",
   "execution_count": 27,
   "id": "6ab94b49-4f9e-4570-b27f-d879fc225b2a",
   "metadata": {},
   "outputs": [],
   "source": [
    "a=Bankaccount(500000)"
   ]
  },
  {
   "cell_type": "code",
   "execution_count": 28,
   "id": "97bb0259-e5a6-4de6-a39f-15b5713387f2",
   "metadata": {},
   "outputs": [
    {
     "data": {
      "text/plain": [
       "500000"
      ]
     },
     "execution_count": 28,
     "metadata": {},
     "output_type": "execute_result"
    }
   ],
   "source": [
    "a.get_balance()"
   ]
  },
  {
   "cell_type": "code",
   "execution_count": 29,
   "id": "011b51b9-93ce-4a91-9ff7-e330681f4e68",
   "metadata": {},
   "outputs": [],
   "source": [
    "a.deposit(5000)"
   ]
  },
  {
   "cell_type": "code",
   "execution_count": 31,
   "id": "70d8eeaf-93a0-4c8e-a6e6-0ccd04ed01de",
   "metadata": {},
   "outputs": [
    {
     "data": {
      "text/plain": [
       "505000"
      ]
     },
     "execution_count": 31,
     "metadata": {},
     "output_type": "execute_result"
    }
   ],
   "source": [
    "a.get_balance()"
   ]
  },
  {
   "cell_type": "markdown",
   "id": "521732ce-0cc4-49d6-a068-0b0d154e23e8",
   "metadata": {},
   "source": [
    "Q3. What is abc module in python? Why is it used?"
   ]
  },
  {
   "cell_type": "markdown",
   "id": "66b8dfad-ace2-4735-909d-36a978f4d2d3",
   "metadata": {},
   "source": [
    "The abc module in Python stands for \"Abstract Base Classes.\" It provides facilities for creating abstract classes and interfaces in Python. Abstract Base Classes (ABCs) are classes that cannot be instantiated directly but serve as a blueprint for other classes to inherit from. They are used to define a common interface that multiple subclasses must adhere to, ensuring that specific methods are implemented in those subclasses.\n",
    "\n",
    "The primary purpose of the abc module is to facilitate abstraction and enforce a contract between classes, providing a structured way to design and implement interfaces in Python. It allows you to define abstract methods that must be implemented in the subclasses, promoting code consistency and maintainability."
   ]
  },
  {
   "cell_type": "markdown",
   "id": "1ad4085c-43ae-42f5-b28f-e63a664fd10c",
   "metadata": {},
   "source": [
    "Q4. How can we achieve data abstraction?"
   ]
  },
  {
   "cell_type": "markdown",
   "id": "1fa2a256-caf0-4b23-9001-1d45c610c5d4",
   "metadata": {},
   "source": [
    "Data abstraction can be achieved in Python through the use of classes and objects, as well as through abstract classes and interfaces provided by the abc module. Here's how data abstraction can be achieved:\n",
    "\n",
    "Using Classes and Objects:\n",
    "Define a class that represents the abstraction of a real-world entity or concept. The class should contain attributes (data) and methods (behaviors) that define the properties and actions of the entity.\n",
    "Encapsulate the data within the class by defining attributes as instance variables and methods as instance methods.\n",
    "Use access control mechanisms (public, private, and protected) to restrict direct access to the class's internal attributes, promoting data hiding and encapsulation.\n",
    "Provide a clean and controlled interface for interacting with the class's attributes and methods, allowing access and manipulation only through well-defined methods (getters and setters) and properties.\n",
    "Use objects to create instances of the class, allowing you to work with the abstracted data as individual entities."
   ]
  },
  {
   "cell_type": "markdown",
   "id": "abe2d331-ef05-48bb-9ce4-756f9e15dc92",
   "metadata": {},
   "source": [
    "Q5. Can we create an instance of an abstract class? Explain your answer."
   ]
  },
  {
   "cell_type": "code",
   "execution_count": null,
   "id": "da96a099-2179-467a-96d8-2455eb4e2977",
   "metadata": {},
   "outputs": [],
   "source": []
  }
 ],
 "metadata": {
  "kernelspec": {
   "display_name": "Python 3 (ipykernel)",
   "language": "python",
   "name": "python3"
  },
  "language_info": {
   "codemirror_mode": {
    "name": "ipython",
    "version": 3
   },
   "file_extension": ".py",
   "mimetype": "text/x-python",
   "name": "python",
   "nbconvert_exporter": "python",
   "pygments_lexer": "ipython3",
   "version": "3.10.8"
  }
 },
 "nbformat": 4,
 "nbformat_minor": 5
}
